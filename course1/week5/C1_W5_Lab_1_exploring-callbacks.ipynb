{
 "cells": [
  {
   "cell_type": "markdown",
   "metadata": {
    "colab_type": "text",
    "id": "view-in-github",
    "pycharm": {
     "name": "#%% md\n"
    }
   },
   "source": [
    "<a href=\"https://colab.research.google.com/github/https-deeplearning-ai/tensorflow-3-public/blob/main/Course%201%20-%20Custom%20Models%2C%20Layers%20and%20Loss%20Functions/Week%205%20-%20Callbacks/C1_W5_Lab_1_exploring-callbacks.ipynb\" target=\"_parent\"><img src=\"https://colab.research.google.com/assets/colab-badge.svg\" alt=\"Open In Colab\"/></a>"
   ]
  },
  {
   "cell_type": "markdown",
   "metadata": {
    "colab_type": "text",
    "id": "0c_TYhQOUe1j",
    "pycharm": {
     "name": "#%% md\n"
    }
   },
   "source": [
    "# Ungraded Lab: Introduction to Keras callbacks\n",
    "\n",
    "In Keras, `Callback` is a Python class meant to be subclassed to provide specific functionality, with a set of methods called at various stages of training (including batch/epoch start and ends), testing, and predicting. Callbacks are useful to get a view on internal states and statistics of the model during training. The methods of the callbacks can  be called at different stages of training/evaluating/inference. Keras has available [callbacks](https://keras.io/api/callbacks/) and we'll show how you can use it in the following sections. Please click the **Open in Colab** badge above to complete this exercise in Colab. This will allow you to take advantage of the free GPU runtime (for faster training) and compatibility with all the packages needed in this notebook."
   ]
  },
  {
   "cell_type": "markdown",
   "metadata": {
    "colab_type": "text",
    "id": "Uyl69EyRQx-f",
    "pycharm": {
     "name": "#%% md\n"
    }
   },
   "source": [
    "## Model methods that take callbacks\n",
    "Users can supply a list of callbacks to the following `tf.keras.Model` methods:\n",
    "* [`fit()`](https://www.tensorflow.org/versions/r2.0/api_docs/python/tf/keras/Model#fit), [`fit_generator()`](https://www.tensorflow.org/versions/r2.0/api_docs/python/tf/keras/Model#fit_generator)\n",
    "Trains the model for a fixed number of epochs (iterations over a dataset, or data yielded batch-by-batch by a Python generator).\n",
    "* [`evaluate()`](https://www.tensorflow.org/versions/r2.0/api_docs/python/tf/keras/Model#evaluate), [`evaluate_generator()`](https://www.tensorflow.org/versions/r2.0/api_docs/python/tf/keras/Model#evaluate_generator)\n",
    "Evaluates the model for given data or data generator. Outputs the loss and metric values from the evaluation.\n",
    "* [`predict()`](https://www.tensorflow.org/versions/r2.0/api_docs/python/tf/keras/Model#predict), [`predict_generator()`](https://www.tensorflow.org/versions/r2.0/api_docs/python/tf/keras/Model#predict_generator)\n",
    "Generates output predictions for the input data or data generator."
   ]
  },
  {
   "cell_type": "markdown",
   "metadata": {
    "pycharm": {
     "name": "#%% md\n"
    }
   },
   "source": [
    "## Imports"
   ]
  },
  {
   "cell_type": "code",
   "execution_count": 13,
   "metadata": {
    "colab": {},
    "colab_type": "code",
    "id": "AlT1Kh3uA9lZ",
    "pycharm": {
     "name": "#%%\n"
    }
   },
   "outputs": [
    {
     "name": "stdout",
     "output_type": "stream",
     "text": [
      "The tensorboard extension is already loaded. To reload it, use:\n",
      "  %reload_ext tensorboard\n",
      "Version:  2.9.0\n"
     ]
    }
   ],
   "source": [
    "from __future__ import absolute_import, division, print_function, unicode_literals\n",
    "\n",
    "try:\n",
    "    # %tensorflow_version only exists in Colab.\n",
    "    %tensorflow_version 2.x\n",
    "except Exception:\n",
    "    pass\n",
    "\n",
    "import tensorflow as tf\n",
    "import tensorflow_datasets as tfds\n",
    "import matplotlib.pyplot as plt\n",
    "import io\n",
    "from PIL import Image\n",
    "\n",
    "from tensorflow.keras.callbacks import TensorBoard, EarlyStopping, LearningRateScheduler, ModelCheckpoint, CSVLogger, ReduceLROnPlateau\n",
    "%load_ext tensorboard\n",
    "\n",
    "import os\n",
    "import matplotlib.pylab as plt\n",
    "import numpy as np\n",
    "import math\n",
    "import datetime\n",
    "import pandas as pd\n",
    "\n",
    "print(\"Version: \", tf.__version__)\n",
    "tf.get_logger().setLevel('INFO')"
   ]
  },
  {
   "cell_type": "markdown",
   "metadata": {
    "colab_type": "text",
    "id": "HnSljqtsXKfb",
    "pycharm": {
     "name": "#%% md\n"
    }
   },
   "source": [
    "# Examples of Keras callback applications\n",
    "The following section will guide you through creating simple [Callback](https://keras.io/api/callbacks/) applications."
   ]
  },
  {
   "cell_type": "code",
   "execution_count": 15,
   "metadata": {
    "colab": {},
    "colab_type": "code",
    "id": "spskRuxvCYQE",
    "pycharm": {
     "name": "#%%\n"
    }
   },
   "outputs": [],
   "source": [
    "# Download and prepare the horses or humans dataset\n",
    "\n",
    "# horses_or_humans 3.0.0 has already been downloaded for you\n",
    "path = \"./tensorflow_datasets\"\n",
    "splits, info = tfds.load('horses_or_humans', data_dir=path, as_supervised=True, with_info=True, split=['train[:80%]', 'train[80%:]', 'test'])\n",
    "\n",
    "(train_examples, validation_examples, test_examples) = splits\n",
    "\n",
    "num_examples = info.splits['train'].num_examples\n",
    "num_classes = info.features['label'].num_classes"
   ]
  },
  {
   "cell_type": "code",
   "execution_count": 16,
   "metadata": {
    "colab": {},
    "colab_type": "code",
    "id": "veIsubKTCZsN",
    "pycharm": {
     "name": "#%%\n"
    }
   },
   "outputs": [],
   "source": [
    "SIZE = 150 #@param {type:\"slider\", min:64, max:300, step:1}\n",
    "IMAGE_SIZE = (SIZE, SIZE)"
   ]
  },
  {
   "cell_type": "code",
   "execution_count": 17,
   "metadata": {
    "colab": {},
    "colab_type": "code",
    "id": "faajLlErCb1S",
    "pycharm": {
     "name": "#%%\n"
    }
   },
   "outputs": [],
   "source": [
    "def format_image(image, label):\n",
    "  image = tf.image.resize(image, IMAGE_SIZE) / 255.0\n",
    "  return  image, label"
   ]
  },
  {
   "cell_type": "code",
   "execution_count": 6,
   "metadata": {
    "colab": {},
    "colab_type": "code",
    "id": "AVXPuU12Cdka",
    "pycharm": {
     "name": "#%%\n"
    }
   },
   "outputs": [],
   "source": [
    "BATCH_SIZE = 32 #@param {type:\"integer\"}"
   ]
  },
  {
   "cell_type": "code",
   "execution_count": 18,
   "metadata": {
    "colab": {},
    "colab_type": "code",
    "id": "0lHDkFVaCe48",
    "pycharm": {
     "name": "#%%\n"
    }
   },
   "outputs": [],
   "source": [
    "train_batches = train_examples.shuffle(num_examples // 4).map(format_image).batch(BATCH_SIZE).prefetch(1)\n",
    "validation_batches = validation_examples.map(format_image).batch(BATCH_SIZE).prefetch(1)\n",
    "test_batches = test_examples.map(format_image).batch(1)"
   ]
  },
  {
   "cell_type": "code",
   "execution_count": null,
   "metadata": {
    "colab": {},
    "colab_type": "code",
    "id": "DxsCqEIkCgUt",
    "pycharm": {
     "name": "#%%\n"
    }
   },
   "outputs": [],
   "source": [
    "for image_batch, label_batch in train_batches.take(1):\n",
    "  pass\n",
    "\n",
    "image_batch.shape"
   ]
  },
  {
   "cell_type": "code",
   "execution_count": 19,
   "metadata": {
    "colab": {},
    "colab_type": "code",
    "id": "iDBpWvHXCh2A",
    "pycharm": {
     "name": "#%%\n"
    }
   },
   "outputs": [],
   "source": [
    "def build_model(dense_units, input_shape=IMAGE_SIZE + (3,)):\n",
    "  model = tf.keras.models.Sequential([\n",
    "      tf.keras.layers.Conv2D(16, (3, 3), activation='relu', input_shape=input_shape),\n",
    "      tf.keras.layers.MaxPooling2D(2, 2),\n",
    "      tf.keras.layers.Conv2D(32, (3, 3), activation='relu'),\n",
    "      tf.keras.layers.MaxPooling2D(2, 2),\n",
    "      tf.keras.layers.Conv2D(64, (3, 3), activation='relu'),\n",
    "      tf.keras.layers.MaxPooling2D(2, 2),\n",
    "      tf.keras.layers.Flatten(),\n",
    "      tf.keras.layers.Dense(dense_units, activation='relu'),\n",
    "      tf.keras.layers.Dense(2, activation='softmax')\n",
    "  ])\n",
    "  return model"
   ]
  },
  {
   "cell_type": "markdown",
   "metadata": {
    "colab_type": "text",
    "id": "0ZKGkjagENSw",
    "pycharm": {
     "name": "#%% md\n"
    }
   },
   "source": [
    "## [TensorBoard](https://keras.io/api/callbacks/tensorboard/)\n",
    "\n",
    "Enable visualizations for TensorBoard."
   ]
  },
  {
   "cell_type": "code",
   "execution_count": 9,
   "metadata": {
    "colab": {},
    "colab_type": "code",
    "id": "CeiD2WVEHbex",
    "pycharm": {
     "name": "#%%\n"
    }
   },
   "outputs": [
    {
     "name": "stderr",
     "output_type": "stream",
     "text": [
      "'rm' 不是内部或外部命令，也不是可运行的程序\n",
      "或批处理文件。\n"
     ]
    }
   ],
   "source": [
    "!rm -rf logs"
   ]
  },
  {
   "cell_type": "code",
   "execution_count": 20,
   "metadata": {
    "colab": {},
    "colab_type": "code",
    "id": "PpLwPLnAEOzv",
    "pycharm": {
     "name": "#%%\n"
    }
   },
   "outputs": [
    {
     "name": "stdout",
     "output_type": "stream",
     "text": [
      "Epoch 1/10\n",
      "26/26 [==============================] - 2s 46ms/step - loss: 0.6669 - accuracy: 0.6022 - val_loss: 0.6822 - val_accuracy: 0.4585\n",
      "Epoch 2/10\n",
      "26/26 [==============================] - 1s 35ms/step - loss: 0.6114 - accuracy: 0.6861 - val_loss: 0.5657 - val_accuracy: 0.7317\n",
      "Epoch 3/10\n",
      "26/26 [==============================] - 1s 35ms/step - loss: 0.5306 - accuracy: 0.7871 - val_loss: 0.4713 - val_accuracy: 0.8537\n",
      "Epoch 4/10\n",
      "26/26 [==============================] - 1s 35ms/step - loss: 0.4869 - accuracy: 0.7908 - val_loss: 0.4671 - val_accuracy: 0.7610\n",
      "Epoch 5/10\n",
      "26/26 [==============================] - 1s 35ms/step - loss: 0.3965 - accuracy: 0.8698 - val_loss: 0.3131 - val_accuracy: 0.9366\n",
      "Epoch 6/10\n",
      "26/26 [==============================] - 1s 35ms/step - loss: 0.3005 - accuracy: 0.9173 - val_loss: 0.2412 - val_accuracy: 0.9415\n",
      "Epoch 7/10\n",
      "26/26 [==============================] - 1s 35ms/step - loss: 0.2397 - accuracy: 0.9319 - val_loss: 0.2884 - val_accuracy: 0.8780\n",
      "Epoch 8/10\n",
      "26/26 [==============================] - 1s 34ms/step - loss: 0.1958 - accuracy: 0.9367 - val_loss: 0.1827 - val_accuracy: 0.9366\n",
      "Epoch 9/10\n",
      "26/26 [==============================] - 1s 35ms/step - loss: 0.1502 - accuracy: 0.9599 - val_loss: 0.1286 - val_accuracy: 0.9756\n",
      "Epoch 10/10\n",
      "26/26 [==============================] - 1s 34ms/step - loss: 0.1266 - accuracy: 0.9623 - val_loss: 0.1037 - val_accuracy: 0.9805\n"
     ]
    },
    {
     "data": {
      "text/plain": "<keras.callbacks.History at 0x1ebada9e7c0>"
     },
     "execution_count": 20,
     "metadata": {},
     "output_type": "execute_result"
    }
   ],
   "source": [
    "model = build_model(dense_units=256)\n",
    "model.compile(\n",
    "    optimizer='sgd',\n",
    "    loss='sparse_categorical_crossentropy', \n",
    "    metrics=['accuracy'])\n",
    "  \n",
    "logdir = os.path.join(\"logs\", datetime.datetime.now().strftime(\"%Y%m%d-%H%M%S\"))\n",
    "tensorboard_callback = tf.keras.callbacks.TensorBoard(logdir)\n",
    "\n",
    "model.fit(train_batches, \n",
    "          epochs=10, \n",
    "          validation_data=validation_batches, \n",
    "          callbacks=[tensorboard_callback])"
   ]
  },
  {
   "cell_type": "code",
   "execution_count": 12,
   "metadata": {
    "colab": {},
    "colab_type": "code",
    "id": "iJunWOjZE0ir",
    "pycharm": {
     "name": "#%%\n"
    }
   },
   "outputs": [
    {
     "data": {
      "text/plain": "Launching TensorBoard..."
     },
     "metadata": {},
     "output_type": "display_data"
    },
    {
     "data": {
      "text/plain": "<IPython.core.display.HTML object>",
      "text/html": "\n      <iframe id=\"tensorboard-frame-459429f5b984b21e\" width=\"100%\" height=\"800\" frameborder=\"0\">\n      </iframe>\n      <script>\n        (function() {\n          const frame = document.getElementById(\"tensorboard-frame-459429f5b984b21e\");\n          const url = new URL(\"/\", window.location);\n          const port = 6006;\n          if (port) {\n            url.port = port;\n          }\n          frame.src = url;\n        })();\n      </script>\n    "
     },
     "metadata": {},
     "output_type": "display_data"
    }
   ],
   "source": [
    "%tensorboard --logdir logs"
   ]
  },
  {
   "cell_type": "markdown",
   "metadata": {
    "colab_type": "text",
    "id": "wv9H4Pc2Mfl7",
    "pycharm": {
     "name": "#%% md\n"
    }
   },
   "source": [
    "## [Model Checkpoint](https://keras.io/api/callbacks/model_checkpoint/)\n",
    "\n",
    "Callback to save the Keras model or model weights at some frequency."
   ]
  },
  {
   "cell_type": "code",
   "execution_count": 21,
   "metadata": {
    "colab": {},
    "colab_type": "code",
    "id": "PYV4FJ8iMmDq",
    "pycharm": {
     "name": "#%%\n"
    }
   },
   "outputs": [
    {
     "name": "stdout",
     "output_type": "stream",
     "text": [
      "Epoch 1/5\n",
      "\n",
      "Epoch 1: saving model to weights.01-0.68.h5\n",
      "26/26 - 2s - loss: 0.6816 - accuracy: 0.5669 - val_loss: 0.6767 - val_accuracy: 0.5220 - 2s/epoch - 61ms/step\n",
      "Epoch 2/5\n",
      "\n",
      "Epoch 2: saving model to weights.02-0.62.h5\n",
      "26/26 - 1s - loss: 0.6417 - accuracy: 0.6813 - val_loss: 0.6236 - val_accuracy: 0.7610 - 894ms/epoch - 34ms/step\n",
      "Epoch 3/5\n",
      "\n",
      "Epoch 3: saving model to weights.03-0.56.h5\n",
      "26/26 - 1s - loss: 0.5931 - accuracy: 0.7056 - val_loss: 0.5625 - val_accuracy: 0.7805 - 911ms/epoch - 35ms/step\n",
      "Epoch 4/5\n",
      "\n",
      "Epoch 4: saving model to weights.04-0.49.h5\n",
      "26/26 - 1s - loss: 0.5438 - accuracy: 0.7616 - val_loss: 0.4929 - val_accuracy: 0.8244 - 913ms/epoch - 35ms/step\n",
      "Epoch 5/5\n",
      "\n",
      "Epoch 5: saving model to weights.05-0.42.h5\n",
      "26/26 - 1s - loss: 0.4628 - accuracy: 0.8224 - val_loss: 0.4169 - val_accuracy: 0.8390 - 894ms/epoch - 34ms/step\n"
     ]
    },
    {
     "data": {
      "text/plain": "<keras.callbacks.History at 0x1ec943de3d0>"
     },
     "execution_count": 21,
     "metadata": {},
     "output_type": "execute_result"
    }
   ],
   "source": [
    "model = build_model(dense_units=256)\n",
    "model.compile(\n",
    "    optimizer='sgd',\n",
    "    loss='sparse_categorical_crossentropy', \n",
    "    metrics=['accuracy'])\n",
    "  \n",
    "model.fit(train_batches, \n",
    "          epochs=5, \n",
    "          validation_data=validation_batches, \n",
    "          verbose=2,\n",
    "          callbacks=[ModelCheckpoint('weights.{epoch:02d}-{val_loss:.2f}.h5', verbose=1),\n",
    "          ])"
   ]
  },
  {
   "cell_type": "code",
   "execution_count": 22,
   "metadata": {
    "colab": {},
    "colab_type": "code",
    "id": "oGvjQ8IlMmK6",
    "pycharm": {
     "name": "#%%\n"
    }
   },
   "outputs": [
    {
     "name": "stdout",
     "output_type": "stream",
     "text": [
      "\n",
      "Epoch 1: saving model to saved_model\n"
     ]
    },
    {
     "name": "stderr",
     "output_type": "stream",
     "text": [
      "WARNING:absl:Found untraced functions such as _jit_compiled_convolution_op, _jit_compiled_convolution_op, _jit_compiled_convolution_op while saving (showing 3 of 3). These functions will not be directly callable after loading.\n"
     ]
    },
    {
     "name": "stdout",
     "output_type": "stream",
     "text": [
      "INFO:tensorflow:Assets written to: saved_model\\assets\n"
     ]
    },
    {
     "name": "stderr",
     "output_type": "stream",
     "text": [
      "INFO:tensorflow:Assets written to: saved_model\\assets\n"
     ]
    },
    {
     "name": "stdout",
     "output_type": "stream",
     "text": [
      "26/26 - 3s - loss: 0.6746 - accuracy: 0.5657 - val_loss: 0.7315 - val_accuracy: 0.4390 - 3s/epoch - 112ms/step\n"
     ]
    },
    {
     "data": {
      "text/plain": "<keras.callbacks.History at 0x1eca0f40c40>"
     },
     "execution_count": 22,
     "metadata": {},
     "output_type": "execute_result"
    }
   ],
   "source": [
    "model = build_model(dense_units=256)\n",
    "model.compile(\n",
    "    optimizer='sgd',\n",
    "    loss='sparse_categorical_crossentropy', \n",
    "    metrics=['accuracy'])\n",
    "  \n",
    "model.fit(train_batches, \n",
    "          epochs=1, \n",
    "          validation_data=validation_batches, \n",
    "          verbose=2,\n",
    "          callbacks=[ModelCheckpoint('saved_model', verbose=1)\n",
    "          ])"
   ]
  },
  {
   "cell_type": "code",
   "execution_count": 23,
   "metadata": {
    "colab": {},
    "colab_type": "code",
    "id": "Y1ConwoB0EjD",
    "pycharm": {
     "name": "#%%\n"
    }
   },
   "outputs": [
    {
     "name": "stdout",
     "output_type": "stream",
     "text": [
      "Epoch 1/2\n",
      "\n",
      "Epoch 1: saving model to model.h5\n",
      "26/26 - 1s - loss: 0.6880 - accuracy: 0.5572 - val_loss: 0.6626 - val_accuracy: 0.5707 - 1s/epoch - 56ms/step\n",
      "Epoch 2/2\n",
      "\n",
      "Epoch 2: saving model to model.h5\n",
      "26/26 - 1s - loss: 0.6427 - accuracy: 0.6217 - val_loss: 0.6920 - val_accuracy: 0.5122 - 908ms/epoch - 35ms/step\n"
     ]
    },
    {
     "data": {
      "text/plain": "<keras.callbacks.History at 0x1ecaa11b370>"
     },
     "execution_count": 23,
     "metadata": {},
     "output_type": "execute_result"
    }
   ],
   "source": [
    "model = build_model(dense_units=256)\n",
    "model.compile(\n",
    "    optimizer='sgd',\n",
    "    loss='sparse_categorical_crossentropy', \n",
    "    metrics=['accuracy'])\n",
    "  \n",
    "model.fit(train_batches, \n",
    "          epochs=2, \n",
    "          validation_data=validation_batches, \n",
    "          verbose=2,\n",
    "          callbacks=[ModelCheckpoint('model.h5', verbose=1)\n",
    "          ])"
   ]
  },
  {
   "cell_type": "markdown",
   "metadata": {
    "colab_type": "text",
    "id": "kptNF0--Lznv",
    "pycharm": {
     "name": "#%% md\n"
    }
   },
   "source": [
    "## [Early stopping](https://keras.io/api/callbacks/early_stopping/)\n",
    "\n",
    "Stop training when a monitored metric has stopped improving."
   ]
  },
  {
   "cell_type": "code",
   "execution_count": 24,
   "metadata": {
    "colab": {},
    "colab_type": "code",
    "id": "KJOJTJYdCkdY",
    "pycharm": {
     "name": "#%%\n"
    }
   },
   "outputs": [
    {
     "name": "stdout",
     "output_type": "stream",
     "text": [
      "Epoch 1/50\n",
      "26/26 - 1s - loss: 0.6698 - accuracy: 0.5852 - val_loss: 0.6700 - val_accuracy: 0.4780 - 1s/epoch - 55ms/step\n",
      "Epoch 2/50\n",
      "26/26 - 1s - loss: 0.6187 - accuracy: 0.6715 - val_loss: 0.6551 - val_accuracy: 0.5805 - 865ms/epoch - 33ms/step\n",
      "Epoch 3/50\n",
      "26/26 - 1s - loss: 0.5615 - accuracy: 0.7494 - val_loss: 0.6343 - val_accuracy: 0.5659 - 865ms/epoch - 33ms/step\n",
      "Epoch 4/50\n",
      "26/26 - 1s - loss: 0.5022 - accuracy: 0.7664 - val_loss: 0.4359 - val_accuracy: 0.8098 - 876ms/epoch - 34ms/step\n",
      "Epoch 5/50\n",
      "26/26 - 1s - loss: 0.4259 - accuracy: 0.8163 - val_loss: 0.3679 - val_accuracy: 0.8390 - 872ms/epoch - 34ms/step\n",
      "Epoch 6/50\n",
      "26/26 - 1s - loss: 0.3820 - accuracy: 0.8394 - val_loss: 0.3121 - val_accuracy: 0.8976 - 865ms/epoch - 33ms/step\n",
      "Epoch 7/50\n",
      "26/26 - 1s - loss: 0.3334 - accuracy: 0.8686 - val_loss: 0.6487 - val_accuracy: 0.6537 - 846ms/epoch - 33ms/step\n",
      "Epoch 8/50\n",
      "26/26 - 1s - loss: 0.2737 - accuracy: 0.9015 - val_loss: 0.2008 - val_accuracy: 0.9415 - 859ms/epoch - 33ms/step\n",
      "Epoch 9/50\n",
      "26/26 - 1s - loss: 0.2274 - accuracy: 0.9124 - val_loss: 0.1908 - val_accuracy: 0.9268 - 842ms/epoch - 32ms/step\n",
      "Epoch 10/50\n",
      "26/26 - 1s - loss: 0.1934 - accuracy: 0.9355 - val_loss: 0.1482 - val_accuracy: 0.9463 - 855ms/epoch - 33ms/step\n",
      "Epoch 11/50\n",
      "26/26 - 1s - loss: 0.1522 - accuracy: 0.9611 - val_loss: 0.1670 - val_accuracy: 0.9268 - 843ms/epoch - 32ms/step\n",
      "Epoch 12/50\n",
      "26/26 - 1s - loss: 0.1220 - accuracy: 0.9623 - val_loss: 0.0848 - val_accuracy: 0.9902 - 856ms/epoch - 33ms/step\n",
      "Epoch 13/50\n",
      "26/26 - 1s - loss: 0.1272 - accuracy: 0.9623 - val_loss: 0.0766 - val_accuracy: 0.9902 - 844ms/epoch - 32ms/step\n",
      "Epoch 14/50\n",
      "26/26 - 1s - loss: 0.0922 - accuracy: 0.9793 - val_loss: 0.0788 - val_accuracy: 0.9854 - 843ms/epoch - 32ms/step\n",
      "Epoch 15/50\n",
      "Restoring model weights from the end of the best epoch: 12.\n",
      "26/26 - 1s - loss: 0.0821 - accuracy: 0.9769 - val_loss: 0.0707 - val_accuracy: 0.9756 - 851ms/epoch - 33ms/step\n",
      "Epoch 15: early stopping\n"
     ]
    },
    {
     "data": {
      "text/plain": "<keras.callbacks.History at 0x1ec9d4f6040>"
     },
     "execution_count": 24,
     "metadata": {},
     "output_type": "execute_result"
    }
   ],
   "source": [
    "model = build_model(dense_units=256)\n",
    "model.compile(\n",
    "    optimizer='sgd',\n",
    "    loss='sparse_categorical_crossentropy', \n",
    "    metrics=['accuracy'])\n",
    "  \n",
    "model.fit(train_batches, \n",
    "          epochs=50, \n",
    "          validation_data=validation_batches, \n",
    "          verbose=2,\n",
    "          callbacks=[EarlyStopping(\n",
    "              patience=3,\n",
    "              min_delta=0.05,\n",
    "              baseline=0.8,\n",
    "              mode='min',\n",
    "              monitor='val_loss',\n",
    "              restore_best_weights=True,\n",
    "              verbose=1)\n",
    "          ])"
   ]
  },
  {
   "cell_type": "markdown",
   "metadata": {
    "colab_type": "text",
    "id": "8mDzWUD4Pqq5",
    "pycharm": {
     "name": "#%% md\n"
    }
   },
   "source": [
    "## [CSV Logger](https://keras.io/api/callbacks/csv_logger/)\n",
    "\n",
    "Callback that streams epoch results to a CSV file."
   ]
  },
  {
   "cell_type": "code",
   "execution_count": 25,
   "metadata": {
    "colab": {},
    "colab_type": "code",
    "id": "cffnMpmGPtMh",
    "pycharm": {
     "name": "#%%\n"
    }
   },
   "outputs": [
    {
     "name": "stdout",
     "output_type": "stream",
     "text": [
      "Epoch 1/5\n",
      "26/26 [==============================] - 1s 40ms/step - loss: 0.6671 - accuracy: 0.5973 - val_loss: 0.6375 - val_accuracy: 0.7220\n",
      "Epoch 2/5\n",
      "26/26 [==============================] - 1s 34ms/step - loss: 0.6097 - accuracy: 0.7007 - val_loss: 0.5836 - val_accuracy: 0.6683\n",
      "Epoch 3/5\n",
      "26/26 [==============================] - 1s 35ms/step - loss: 0.5605 - accuracy: 0.7251 - val_loss: 0.5183 - val_accuracy: 0.7756\n",
      "Epoch 4/5\n",
      "26/26 [==============================] - 1s 34ms/step - loss: 0.4982 - accuracy: 0.7737 - val_loss: 0.4531 - val_accuracy: 0.8195\n",
      "Epoch 5/5\n",
      "26/26 [==============================] - 1s 34ms/step - loss: 0.4271 - accuracy: 0.8370 - val_loss: 0.4053 - val_accuracy: 0.8780\n"
     ]
    },
    {
     "data": {
      "text/plain": "<keras.callbacks.History at 0x1ecc17aa730>"
     },
     "execution_count": 25,
     "metadata": {},
     "output_type": "execute_result"
    }
   ],
   "source": [
    "model = build_model(dense_units=256)\n",
    "model.compile(\n",
    "    optimizer='sgd',\n",
    "    loss='sparse_categorical_crossentropy', \n",
    "    metrics=['accuracy'])\n",
    "  \n",
    "csv_file = 'training.csv'\n",
    "\n",
    "model.fit(train_batches, \n",
    "          epochs=5, \n",
    "          validation_data=validation_batches, \n",
    "          callbacks=[CSVLogger(csv_file)\n",
    "          ])"
   ]
  },
  {
   "cell_type": "code",
   "execution_count": 26,
   "metadata": {
    "colab": {},
    "colab_type": "code",
    "id": "B9tkYi03QV7R",
    "pycharm": {
     "name": "#%%\n"
    }
   },
   "outputs": [
    {
     "data": {
      "text/plain": "   epoch  accuracy      loss  val_accuracy  val_loss\n0      0  0.597324  0.667123      0.721951  0.637480\n1      1  0.700730  0.609724      0.668293  0.583598\n2      2  0.725061  0.560527      0.775610  0.518265\n3      3  0.773723  0.498158      0.819512  0.453138\n4      4  0.836983  0.427106      0.878049  0.405260",
      "text/html": "<div>\n<style scoped>\n    .dataframe tbody tr th:only-of-type {\n        vertical-align: middle;\n    }\n\n    .dataframe tbody tr th {\n        vertical-align: top;\n    }\n\n    .dataframe thead th {\n        text-align: right;\n    }\n</style>\n<table border=\"1\" class=\"dataframe\">\n  <thead>\n    <tr style=\"text-align: right;\">\n      <th></th>\n      <th>epoch</th>\n      <th>accuracy</th>\n      <th>loss</th>\n      <th>val_accuracy</th>\n      <th>val_loss</th>\n    </tr>\n  </thead>\n  <tbody>\n    <tr>\n      <th>0</th>\n      <td>0</td>\n      <td>0.597324</td>\n      <td>0.667123</td>\n      <td>0.721951</td>\n      <td>0.637480</td>\n    </tr>\n    <tr>\n      <th>1</th>\n      <td>1</td>\n      <td>0.700730</td>\n      <td>0.609724</td>\n      <td>0.668293</td>\n      <td>0.583598</td>\n    </tr>\n    <tr>\n      <th>2</th>\n      <td>2</td>\n      <td>0.725061</td>\n      <td>0.560527</td>\n      <td>0.775610</td>\n      <td>0.518265</td>\n    </tr>\n    <tr>\n      <th>3</th>\n      <td>3</td>\n      <td>0.773723</td>\n      <td>0.498158</td>\n      <td>0.819512</td>\n      <td>0.453138</td>\n    </tr>\n    <tr>\n      <th>4</th>\n      <td>4</td>\n      <td>0.836983</td>\n      <td>0.427106</td>\n      <td>0.878049</td>\n      <td>0.405260</td>\n    </tr>\n  </tbody>\n</table>\n</div>"
     },
     "execution_count": 26,
     "metadata": {},
     "output_type": "execute_result"
    }
   ],
   "source": [
    "pd.read_csv(csv_file).head()"
   ]
  },
  {
   "cell_type": "markdown",
   "metadata": {
    "colab_type": "text",
    "id": "Dt9C2Y9fRBKN",
    "pycharm": {
     "name": "#%% md\n"
    }
   },
   "source": [
    "## [Learning Rate Scheduler](https://keras.io/api/callbacks/learning_rate_scheduler/)\n",
    "\n",
    "Updates the learning rate during training."
   ]
  },
  {
   "cell_type": "code",
   "execution_count": 27,
   "metadata": {
    "colab": {},
    "colab_type": "code",
    "id": "aJi-xY2VRC03",
    "pycharm": {
     "name": "#%%\n"
    }
   },
   "outputs": [
    {
     "name": "stdout",
     "output_type": "stream",
     "text": [
      "\n",
      "Epoch 1: LearningRateScheduler setting learning rate to 0.005.\n",
      "Epoch 1/5\n",
      "26/26 [==============================] - 2s 41ms/step - loss: 0.6685 - accuracy: 0.6192 - val_loss: 0.6835 - val_accuracy: 0.4585 - lr: 0.0050\n",
      "\n",
      "Epoch 2: LearningRateScheduler setting learning rate to 0.0025.\n",
      "Epoch 2/5\n",
      "26/26 [==============================] - 1s 35ms/step - loss: 0.6410 - accuracy: 0.6533 - val_loss: 0.6527 - val_accuracy: 0.6146 - lr: 0.0025\n",
      "\n",
      "Epoch 3: LearningRateScheduler setting learning rate to 0.00125.\n",
      "Epoch 3/5\n",
      "26/26 [==============================] - 1s 35ms/step - loss: 0.6246 - accuracy: 0.7141 - val_loss: 0.6365 - val_accuracy: 0.7366 - lr: 0.0012\n",
      "\n",
      "Epoch 4: LearningRateScheduler setting learning rate to 0.000625.\n",
      "Epoch 4/5\n",
      "26/26 [==============================] - 1s 35ms/step - loss: 0.6173 - accuracy: 0.7664 - val_loss: 0.6309 - val_accuracy: 0.7659 - lr: 6.2500e-04\n",
      "\n",
      "Epoch 5: LearningRateScheduler setting learning rate to 0.0003125.\n",
      "Epoch 5/5\n",
      "26/26 [==============================] - 1s 35ms/step - loss: 0.6129 - accuracy: 0.7871 - val_loss: 0.6300 - val_accuracy: 0.7512 - lr: 3.1250e-04\n"
     ]
    },
    {
     "data": {
      "text/plain": "<keras.callbacks.History at 0x1ecc17aa1f0>"
     },
     "execution_count": 27,
     "metadata": {},
     "output_type": "execute_result"
    }
   ],
   "source": [
    "model = build_model(dense_units=256)\n",
    "model.compile(\n",
    "    optimizer='sgd',\n",
    "    loss='sparse_categorical_crossentropy', \n",
    "    metrics=['accuracy'])\n",
    "  \n",
    "def step_decay(epoch):\n",
    "\tinitial_lr = 0.01\n",
    "\tdrop = 0.5\n",
    "\tepochs_drop = 1\n",
    "\tlr = initial_lr * math.pow(drop, math.floor((1+epoch)/epochs_drop))\n",
    "\treturn lr\n",
    "\n",
    "model.fit(train_batches, \n",
    "          epochs=5, \n",
    "          validation_data=validation_batches, \n",
    "          callbacks=[LearningRateScheduler(step_decay, verbose=1),\n",
    "                    TensorBoard(log_dir='./log_dir')])"
   ]
  },
  {
   "cell_type": "code",
   "execution_count": 29,
   "metadata": {
    "colab": {},
    "colab_type": "code",
    "id": "M2S4n8nrbV91",
    "pycharm": {
     "name": "#%%\n"
    }
   },
   "outputs": [
    {
     "data": {
      "text/plain": "Launching TensorBoard..."
     },
     "metadata": {},
     "output_type": "display_data"
    },
    {
     "data": {
      "text/plain": "<IPython.core.display.HTML object>",
      "text/html": "\n      <iframe id=\"tensorboard-frame-5e13e36a7ced5523\" width=\"100%\" height=\"800\" frameborder=\"0\">\n      </iframe>\n      <script>\n        (function() {\n          const frame = document.getElementById(\"tensorboard-frame-5e13e36a7ced5523\");\n          const url = new URL(\"/\", window.location);\n          const port = 6006;\n          if (port) {\n            url.port = port;\n          }\n          frame.src = url;\n        })();\n      </script>\n    "
     },
     "metadata": {},
     "output_type": "display_data"
    }
   ],
   "source": [
    "%tensorboard --logdir log_dir"
   ]
  },
  {
   "cell_type": "markdown",
   "metadata": {
    "colab_type": "text",
    "id": "y0wcuQyJE_UK",
    "pycharm": {
     "name": "#%% md\n"
    }
   },
   "source": [
    "## [ReduceLROnPlateau](https://keras.io/api/callbacks/reduce_lr_on_plateau/)\n",
    "\n",
    "Reduce learning rate when a metric has stopped improving."
   ]
  },
  {
   "cell_type": "code",
   "execution_count": 30,
   "metadata": {
    "colab": {},
    "colab_type": "code",
    "id": "4naxZ-eCFB27",
    "pycharm": {
     "name": "#%%\n"
    }
   },
   "outputs": [
    {
     "name": "stdout",
     "output_type": "stream",
     "text": [
      "Epoch 1/50\n",
      "26/26 [==============================] - 2s 41ms/step - loss: 0.6871 - accuracy: 0.5487 - val_loss: 0.6670 - val_accuracy: 0.6390 - lr: 0.0100\n",
      "Epoch 2/50\n",
      "26/26 [==============================] - 1s 35ms/step - loss: 0.6464 - accuracy: 0.6217 - val_loss: 0.6266 - val_accuracy: 0.7561 - lr: 0.0100\n",
      "Epoch 3/50\n",
      "26/26 [==============================] - 1s 35ms/step - loss: 0.6192 - accuracy: 0.6898 - val_loss: 0.6159 - val_accuracy: 0.6439 - lr: 0.0100\n",
      "Epoch 4/50\n",
      "26/26 [==============================] - 1s 35ms/step - loss: 0.5644 - accuracy: 0.7628 - val_loss: 0.5330 - val_accuracy: 0.7951 - lr: 0.0100\n",
      "Epoch 5/50\n",
      "26/26 [==============================] - 1s 35ms/step - loss: 0.5450 - accuracy: 0.7384 - val_loss: 0.4981 - val_accuracy: 0.7805 - lr: 0.0100\n",
      "Epoch 6/50\n",
      "25/26 [===========================>..] - ETA: 0s - loss: 0.5084 - accuracy: 0.7525\n",
      "Epoch 6: ReduceLROnPlateau reducing learning rate to 0.0019999999552965165.\n",
      "26/26 [==============================] - 1s 35ms/step - loss: 0.5096 - accuracy: 0.7494 - val_loss: 0.5105 - val_accuracy: 0.7073 - lr: 0.0100\n",
      "Epoch 7/50\n",
      "26/26 [==============================] - 1s 35ms/step - loss: 0.4364 - accuracy: 0.8273 - val_loss: 0.4345 - val_accuracy: 0.8585 - lr: 0.0020\n",
      "Epoch 8/50\n",
      "26/26 [==============================] - 1s 34ms/step - loss: 0.4192 - accuracy: 0.8345 - val_loss: 0.4122 - val_accuracy: 0.8732 - lr: 0.0020\n",
      "Epoch 9/50\n",
      "26/26 [==============================] - 1s 35ms/step - loss: 0.4063 - accuracy: 0.8418 - val_loss: 0.4091 - val_accuracy: 0.8585 - lr: 0.0020\n",
      "Epoch 10/50\n",
      "26/26 [==============================] - 1s 37ms/step - loss: 0.3922 - accuracy: 0.8382 - val_loss: 0.3752 - val_accuracy: 0.8927 - lr: 0.0020\n",
      "Epoch 11/50\n",
      "26/26 [==============================] - 1s 34ms/step - loss: 0.3787 - accuracy: 0.8601 - val_loss: 0.3699 - val_accuracy: 0.8878 - lr: 0.0020\n",
      "Epoch 12/50\n",
      "26/26 [==============================] - 1s 40ms/step - loss: 0.3682 - accuracy: 0.8577 - val_loss: 0.3533 - val_accuracy: 0.9024 - lr: 0.0020\n",
      "Epoch 13/50\n",
      "26/26 [==============================] - 1s 35ms/step - loss: 0.3568 - accuracy: 0.8674 - val_loss: 0.3379 - val_accuracy: 0.9073 - lr: 0.0020\n",
      "Epoch 14/50\n",
      "26/26 [==============================] - 1s 35ms/step - loss: 0.3424 - accuracy: 0.8662 - val_loss: 0.3195 - val_accuracy: 0.9171 - lr: 0.0020\n",
      "Epoch 15/50\n",
      "26/26 [==============================] - 1s 35ms/step - loss: 0.3279 - accuracy: 0.8832 - val_loss: 0.3188 - val_accuracy: 0.9073 - lr: 0.0020\n",
      "Epoch 16/50\n",
      "26/26 [==============================] - 1s 35ms/step - loss: 0.3191 - accuracy: 0.8820 - val_loss: 0.3060 - val_accuracy: 0.9122 - lr: 0.0020\n",
      "Epoch 17/50\n",
      "26/26 [==============================] - 1s 35ms/step - loss: 0.3014 - accuracy: 0.8905 - val_loss: 0.2862 - val_accuracy: 0.9268 - lr: 0.0020\n",
      "Epoch 18/50\n",
      "26/26 [==============================] - 1s 35ms/step - loss: 0.2917 - accuracy: 0.8990 - val_loss: 0.2679 - val_accuracy: 0.9366 - lr: 0.0020\n",
      "Epoch 19/50\n",
      "26/26 [==============================] - 1s 34ms/step - loss: 0.2758 - accuracy: 0.9088 - val_loss: 0.2525 - val_accuracy: 0.9366 - lr: 0.0020\n",
      "Epoch 20/50\n",
      "25/26 [===========================>..] - ETA: 0s - loss: 0.2701 - accuracy: 0.9187\n",
      "Epoch 20: ReduceLROnPlateau reducing learning rate to 0.001.\n",
      "26/26 [==============================] - 1s 35ms/step - loss: 0.2677 - accuracy: 0.9197 - val_loss: 0.2738 - val_accuracy: 0.9122 - lr: 0.0020\n",
      "Epoch 21/50\n",
      "26/26 [==============================] - 1s 35ms/step - loss: 0.2544 - accuracy: 0.9221 - val_loss: 0.2349 - val_accuracy: 0.9463 - lr: 0.0010\n",
      "Epoch 22/50\n",
      "26/26 [==============================] - 1s 35ms/step - loss: 0.2488 - accuracy: 0.9258 - val_loss: 0.2285 - val_accuracy: 0.9561 - lr: 0.0010\n",
      "Epoch 23/50\n",
      "26/26 [==============================] - 1s 34ms/step - loss: 0.2419 - accuracy: 0.9209 - val_loss: 0.2516 - val_accuracy: 0.9122 - lr: 0.0010\n",
      "Epoch 24/50\n",
      "26/26 [==============================] - 1s 35ms/step - loss: 0.2369 - accuracy: 0.9319 - val_loss: 0.2408 - val_accuracy: 0.9220 - lr: 0.0010\n",
      "Epoch 25/50\n",
      "26/26 [==============================] - 1s 35ms/step - loss: 0.2288 - accuracy: 0.9355 - val_loss: 0.2290 - val_accuracy: 0.9268 - lr: 0.0010\n",
      "Epoch 26/50\n",
      "26/26 [==============================] - 1s 35ms/step - loss: 0.2236 - accuracy: 0.9392 - val_loss: 0.2210 - val_accuracy: 0.9366 - lr: 0.0010\n",
      "Epoch 27/50\n",
      "26/26 [==============================] - 1s 35ms/step - loss: 0.2176 - accuracy: 0.9428 - val_loss: 0.2120 - val_accuracy: 0.9415 - lr: 0.0010\n",
      "Epoch 28/50\n",
      "26/26 [==============================] - 1s 39ms/step - loss: 0.2127 - accuracy: 0.9367 - val_loss: 0.2264 - val_accuracy: 0.9171 - lr: 0.0010\n",
      "Epoch 29/50\n",
      "26/26 [==============================] - 1s 37ms/step - loss: 0.2060 - accuracy: 0.9489 - val_loss: 0.1945 - val_accuracy: 0.9561 - lr: 0.0010\n",
      "Epoch 30/50\n",
      "26/26 [==============================] - 1s 37ms/step - loss: 0.2017 - accuracy: 0.9465 - val_loss: 0.2128 - val_accuracy: 0.9268 - lr: 0.0010\n",
      "Epoch 31/50\n",
      "26/26 [==============================] - 1s 37ms/step - loss: 0.1980 - accuracy: 0.9550 - val_loss: 0.1876 - val_accuracy: 0.9610 - lr: 0.0010\n",
      "Epoch 32/50\n",
      "26/26 [==============================] - 1s 35ms/step - loss: 0.1943 - accuracy: 0.9489 - val_loss: 0.1947 - val_accuracy: 0.9366 - lr: 0.0010\n",
      "Epoch 33/50\n",
      "26/26 [==============================] - 1s 36ms/step - loss: 0.1882 - accuracy: 0.9501 - val_loss: 0.1940 - val_accuracy: 0.9317 - lr: 0.0010\n",
      "Epoch 34/50\n",
      "26/26 [==============================] - 1s 35ms/step - loss: 0.1803 - accuracy: 0.9574 - val_loss: 0.1769 - val_accuracy: 0.9659 - lr: 0.0010\n",
      "Epoch 35/50\n",
      "26/26 [==============================] - 1s 37ms/step - loss: 0.1797 - accuracy: 0.9538 - val_loss: 0.1969 - val_accuracy: 0.9268 - lr: 0.0010\n",
      "Epoch 36/50\n",
      "26/26 [==============================] - 1s 36ms/step - loss: 0.1733 - accuracy: 0.9647 - val_loss: 0.1693 - val_accuracy: 0.9610 - lr: 0.0010\n",
      "Epoch 37/50\n",
      "26/26 [==============================] - 1s 35ms/step - loss: 0.1707 - accuracy: 0.9635 - val_loss: 0.1722 - val_accuracy: 0.9415 - lr: 0.0010\n",
      "Epoch 38/50\n",
      "26/26 [==============================] - 1s 35ms/step - loss: 0.1665 - accuracy: 0.9647 - val_loss: 0.1723 - val_accuracy: 0.9366 - lr: 0.0010\n",
      "Epoch 39/50\n",
      "26/26 [==============================] - 1s 34ms/step - loss: 0.1601 - accuracy: 0.9672 - val_loss: 0.1591 - val_accuracy: 0.9610 - lr: 0.0010\n",
      "Epoch 40/50\n",
      "26/26 [==============================] - 1s 35ms/step - loss: 0.1583 - accuracy: 0.9599 - val_loss: 0.1673 - val_accuracy: 0.9366 - lr: 0.0010\n",
      "Epoch 41/50\n",
      "26/26 [==============================] - 1s 37ms/step - loss: 0.1556 - accuracy: 0.9684 - val_loss: 0.1485 - val_accuracy: 0.9659 - lr: 0.0010\n",
      "Epoch 42/50\n",
      "26/26 [==============================] - 1s 35ms/step - loss: 0.1512 - accuracy: 0.9635 - val_loss: 0.1455 - val_accuracy: 0.9659 - lr: 0.0010\n",
      "Epoch 43/50\n",
      "26/26 [==============================] - 1s 35ms/step - loss: 0.1468 - accuracy: 0.9708 - val_loss: 0.1437 - val_accuracy: 0.9659 - lr: 0.0010\n",
      "Epoch 44/50\n",
      "26/26 [==============================] - 1s 37ms/step - loss: 0.1449 - accuracy: 0.9696 - val_loss: 0.1404 - val_accuracy: 0.9707 - lr: 0.0010\n",
      "Epoch 45/50\n",
      "26/26 [==============================] - 1s 35ms/step - loss: 0.1393 - accuracy: 0.9720 - val_loss: 0.1485 - val_accuracy: 0.9463 - lr: 0.0010\n",
      "Epoch 46/50\n",
      "26/26 [==============================] - 1s 38ms/step - loss: 0.1347 - accuracy: 0.9732 - val_loss: 0.1513 - val_accuracy: 0.9415 - lr: 0.0010\n",
      "Epoch 47/50\n",
      "26/26 [==============================] - 1s 35ms/step - loss: 0.1322 - accuracy: 0.9757 - val_loss: 0.1405 - val_accuracy: 0.9561 - lr: 0.0010\n",
      "Epoch 48/50\n",
      "26/26 [==============================] - 1s 36ms/step - loss: 0.1284 - accuracy: 0.9805 - val_loss: 0.1441 - val_accuracy: 0.9463 - lr: 0.0010\n",
      "Epoch 49/50\n",
      "26/26 [==============================] - 1s 36ms/step - loss: 0.1268 - accuracy: 0.9745 - val_loss: 0.1324 - val_accuracy: 0.9610 - lr: 0.0010\n",
      "Epoch 50/50\n",
      "26/26 [==============================] - 1s 35ms/step - loss: 0.1252 - accuracy: 0.9732 - val_loss: 0.1291 - val_accuracy: 0.9659 - lr: 0.0010\n"
     ]
    },
    {
     "data": {
      "text/plain": "<keras.callbacks.History at 0x1ecab72e610>"
     },
     "execution_count": 30,
     "metadata": {},
     "output_type": "execute_result"
    }
   ],
   "source": [
    "model = build_model(dense_units=256)\n",
    "model.compile(\n",
    "    optimizer='sgd',\n",
    "    loss='sparse_categorical_crossentropy', \n",
    "    metrics=['accuracy'])\n",
    "  \n",
    "model.fit(train_batches, \n",
    "          epochs=50, \n",
    "          validation_data=validation_batches, \n",
    "          callbacks=[ReduceLROnPlateau(monitor='val_loss', \n",
    "                                       factor=0.2, verbose=1,\n",
    "                                       patience=1, min_lr=0.001),\n",
    "                     TensorBoard(log_dir='./log_dir')])"
   ]
  },
  {
   "cell_type": "code",
   "execution_count": 31,
   "metadata": {
    "colab": {},
    "colab_type": "code",
    "id": "isfTWP4NYudk",
    "pycharm": {
     "name": "#%%\n"
    }
   },
   "outputs": [
    {
     "data": {
      "text/plain": "Launching TensorBoard..."
     },
     "metadata": {},
     "output_type": "display_data"
    },
    {
     "data": {
      "text/plain": "<IPython.core.display.HTML object>",
      "text/html": "\n      <iframe id=\"tensorboard-frame-f31617dc79b164ee\" width=\"100%\" height=\"800\" frameborder=\"0\">\n      </iframe>\n      <script>\n        (function() {\n          const frame = document.getElementById(\"tensorboard-frame-f31617dc79b164ee\");\n          const url = new URL(\"/\", window.location);\n          const port = 6006;\n          if (port) {\n            url.port = port;\n          }\n          frame.src = url;\n        })();\n      </script>\n    "
     },
     "metadata": {},
     "output_type": "display_data"
    }
   ],
   "source": [
    "%tensorboard --logdir log_dir"
   ]
  },
  {
   "cell_type": "code",
   "execution_count": null,
   "outputs": [],
   "source": [],
   "metadata": {
    "collapsed": false,
    "pycharm": {
     "name": "#%%\n"
    }
   }
  }
 ],
 "metadata": {
  "colab": {
   "collapsed_sections": [],
   "include_colab_link": true,
   "name": "ExploringCallbacks.ipynb",
   "provenance": []
  },
  "kernelspec": {
   "display_name": "Python 3",
   "language": "python",
   "name": "python3"
  },
  "language_info": {
   "codemirror_mode": {
    "name": "ipython",
    "version": 3
   },
   "file_extension": ".py",
   "mimetype": "text/x-python",
   "name": "python",
   "nbconvert_exporter": "python",
   "pygments_lexer": "ipython3",
   "version": "3.7.6"
  }
 },
 "nbformat": 4,
 "nbformat_minor": 4
}